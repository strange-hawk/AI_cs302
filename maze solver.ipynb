{
 "cells": [
  {
   "cell_type": "code",
   "execution_count": 1,
   "id": "impossible-cincinnati",
   "metadata": {},
   "outputs": [],
   "source": [
    "import matplotlib.pyplot as plt\n",
    "import random"
   ]
  },
  {
   "cell_type": "code",
   "execution_count": 3,
   "id": "choice-incentive",
   "metadata": {},
   "outputs": [],
   "source": [
    "H = [[0, 1, 0, 0, 0],[1, 0, 1, 0, 0],[0, 1, 1, 0, 0,],[1, 1, 1, 0, 1],[0, 1, 0, 1, 1],[1, 0, 0, 0, 0]]\n",
    "V = [[1, 0, 1, 1, 1, 0],[ 0, 1, 0, 0, 1, 1],[ 0, 0, 0, 0, 1, 0],[ 0, 1, 0, 1, 0, 0],[ 0, 0, 1, 0, 1, 0]]"
   ]
  },
  {
   "cell_type": "code",
   "execution_count": 6,
   "id": "beneficial-cable",
   "metadata": {},
   "outputs": [
    {
     "ename": "NameError",
     "evalue": "name 'H' is not defined",
     "output_type": "error",
     "traceback": [
      "\u001b[0;31m---------------------------------------------------------------------------\u001b[0m",
      "\u001b[0;31mNameError\u001b[0m                                 Traceback (most recent call last)",
      "\u001b[0;32m<ipython-input-6-7b5880c7457e>\u001b[0m in \u001b[0;36m<module>\u001b[0;34m\u001b[0m\n\u001b[1;32m     15\u001b[0m                 \u001b[0mplt\u001b[0m\u001b[0;34m.\u001b[0m\u001b[0mplot\u001b[0m\u001b[0;34m(\u001b[0m\u001b[0;34m[\u001b[0m\u001b[0mx\u001b[0m\u001b[0;34m-\u001b[0m\u001b[0;36m1\u001b[0m\u001b[0;34m,\u001b[0m\u001b[0mx\u001b[0m\u001b[0;34m]\u001b[0m\u001b[0;34m,\u001b[0m \u001b[0;34m[\u001b[0m\u001b[0my\u001b[0m\u001b[0;34m,\u001b[0m\u001b[0my\u001b[0m\u001b[0;34m]\u001b[0m\u001b[0;34m,\u001b[0m \u001b[0mcolor\u001b[0m\u001b[0;34m=\u001b[0m\u001b[0;34m'k'\u001b[0m\u001b[0;34m)\u001b[0m\u001b[0;34m\u001b[0m\u001b[0;34m\u001b[0m\u001b[0m\n\u001b[1;32m     16\u001b[0m     \u001b[0mplt\u001b[0m\u001b[0;34m.\u001b[0m\u001b[0mshow\u001b[0m\u001b[0;34m(\u001b[0m\u001b[0;34m)\u001b[0m\u001b[0;34m\u001b[0m\u001b[0;34m\u001b[0m\u001b[0m\n\u001b[0;32m---> 17\u001b[0;31m \u001b[0mplot_maze\u001b[0m\u001b[0;34m(\u001b[0m\u001b[0mH\u001b[0m\u001b[0;34m,\u001b[0m\u001b[0mV\u001b[0m\u001b[0;34m)\u001b[0m\u001b[0;34m\u001b[0m\u001b[0;34m\u001b[0m\u001b[0m\n\u001b[0m",
      "\u001b[0;31mNameError\u001b[0m: name 'H' is not defined"
     ]
    }
   ],
   "source": [
    "def plot_maze(H,V):\n",
    "    n = len(H[0])\n",
    "#     plt.axis('off')\n",
    "    plt.grid()\n",
    "    plt.plot([0,n-1,n-1,0,0], [0,0,n-1,n-1,0], color=\"k\")\n",
    "#     plt.plot([0,n,0,n], [0,0,0,n], color=\"k\")\n",
    "#     plt.plot([0,n+1,n+1,0,0],[0,0,n+1,n+1,0], color='k')\n",
    "    for x in range(1,len(V)):\n",
    "        for y in range(1,len(V[0])):\n",
    "            if(V[x][y]):\n",
    "                plt.plot([x,x], [y-1,y], color='k')\n",
    "    for x in range(1,len(H)):\n",
    "        for y in range(1,len(H[0])):\n",
    "            if(H[x][y]):\n",
    "                plt.plot([x-1,x], [y,y], color='k')\n",
    "    plt.show()\n",
    "plot_maze(H,V)"
   ]
  },
  {
   "cell_type": "code",
   "execution_count": 12,
   "id": "dressed-vietnam",
   "metadata": {},
   "outputs": [
    {
     "name": "stdout",
     "output_type": "stream",
     "text": [
      "6 6\n",
      "6 6\n"
     ]
    },
    {
     "data": {
      "image/png": "[encoded data removed]",
      "text/plain": [
       "<Figure size 432x288 with 1 Axes>"
      ]
     },
     "metadata": {
      "needs_background": "light"
     },
     "output_type": "display_data"
    }
   ],
   "source": [
    "from random import shuffle, randrange\n",
    "def make_maze(w = 6, h = 6):\n",
    "#     vis = [[0] * w for _ in range(h)]\n",
    "    vis = [[0] * w + [1] for _ in range(h)] + [[1] * (w + 1)]\n",
    "    ver = [[1] * w for _ in range(h)]\n",
    "    hor = [[1] * w for _ in range(h)]\n",
    "\n",
    "    \n",
    "    def validate(d,w):\n",
    "        out= []\n",
    "        for i in d:\n",
    "            if i[0]>=0 and i[0]<w and i[1]>=0 and i[1]<w :\n",
    "                out.append(tuple(i))\n",
    "        return out\n",
    "                \n",
    "        \n",
    "    def walk(x, y):\n",
    "        vis[x][y] = 1\n",
    " \n",
    "        d = [(x - 1, y), (x, y + 1), (x + 1, y), (x, y - 1)]\n",
    "        d = validate(d,w)\n",
    "        shuffle(d)\n",
    "        for (xx, yy) in d:\n",
    "            if vis[xx][yy]: \n",
    "#                 print(\"hello\")\n",
    "                continue\n",
    "            else:\n",
    "                if xx == x: hor[max(y, yy)][x] = 0\n",
    "                if yy == y: ver[y][max(x, xx)] = 0\n",
    "            walk(xx, yy)\n",
    "\n",
    "    walk(1,1)\n",
    "    return ver, hor\n",
    "ver, hor = make_maze()\n",
    "print(len(ver),len(ver[0]))\n",
    "print(len(hor), len(hor[0]))\n",
    "plot_maze(hor, ver)"
   ]
  },
  {
   "cell_type": "code",
   "execution_count": 89,
   "id": "certified-maryland",
   "metadata": {},
   "outputs": [
    {
     "name": "stdout",
     "output_type": "stream",
     "text": [
      "[[0, 1, 1, 0, 1, 0], [1, 0, 1, 1, 0, 1], [1, 0, 0, 1, 0, 1], [1, 0, 1, 1, 0, 0]]\n",
      "[[1, 0, 0, 1, 0, 1], [0, 1, 0, 0, 1, 0], [0, 1, 1, 0, 1, 0], [0, 1, 0, 0, 1, 1]]\n"
     ]
    }
   ],
   "source": [
    "print(ver[1:][1:])\n",
    "print(hor[1:][1:])"
   ]
  },
  {
   "cell_type": "code",
   "execution_count": 45,
   "id": "appreciated-brighton",
   "metadata": {},
   "outputs": [
    {
     "name": "stdout",
     "output_type": "stream",
     "text": [
      "+--+--+--+--+--+--+--+--+\n",
      "|     |              |  |\n",
      "+--+  +  +--+--+  +  +  +\n",
      "|  |        |     |     |\n",
      "+  +--+--+--+  +--+--+  +\n",
      "|              |  |     |\n",
      "+--+--+--+--+--+  +  +--+\n",
      "|  |              |     |\n",
      "+  +  +--+  +--+  +--+  +\n",
      "|        |  |  |     |  |\n",
      "+--+--+  +  +  +--+  +  +\n",
      "|     |  |  |        |  |\n",
      "+  +  +--+  +--+--+  +  +\n",
      "|  |        |     |  |  |\n",
      "+  +--+--+--+  +  +--+  +\n",
      "|              |        |\n",
      "+--+--+--+--+--+--+--+--+\n",
      "\n",
      "\n",
      "9 9\n",
      "9 9\n"
     ]
    }
   ],
   "source": [
    "def make_maze(w = 16, h = 8):\n",
    "    vis = [[0] * w + [1] for _ in range(h)] + [[1] * (w + 1)]\n",
    "    ver = [[\"|  \"] * w + ['|'] for _ in range(h)] + [[]]\n",
    "    hor = [[\"+--\"] * w + ['+'] for _ in range(h + 1)]\n",
    " \n",
    "    def walk(x, y):\n",
    "        vis[y][x] = 1\n",
    " \n",
    "        d = [(x - 1, y), (x, y + 1), (x + 1, y), (x, y - 1)]\n",
    "        shuffle(d)\n",
    "        for (xx, yy) in d:\n",
    "            if vis[yy][xx]: continue\n",
    "            if xx == x: hor[max(y, yy)][x] = \"+  \"\n",
    "            if yy == y: ver[y][max(x, xx)] = \"   \"\n",
    "            walk(xx, yy)\n",
    " \n",
    "    walk(randrange(w), randrange(h))\n",
    " \n",
    "    s = \"\"\n",
    "    for (a, b) in zip(hor, ver):\n",
    "        s += ''.join(a + ['\\n'] + b + ['\\n'])\n",
    "    print(s)\n",
    "    return hor, ver\n",
    "hor,ver= make_maze(8,8)\n",
    "print(len(ver),len(ver[0]))\n",
    "print(len(hor), len(hor[0]))"
   ]
  },
  {
   "cell_type": "code",
   "execution_count": 253,
   "id": "intellectual-gasoline",
   "metadata": {},
   "outputs": [
    {
     "ename": "IndexError",
     "evalue": "list index out of range",
     "output_type": "error",
     "traceback": [
      "\u001b[0;31m---------------------------------------------------------------------------\u001b[0m",
      "\u001b[0;31mIndexError\u001b[0m                                Traceback (most recent call last)",
      "\u001b[0;32m<ipython-input-253-df4003a2e69a>\u001b[0m in \u001b[0;36m<module>\u001b[0;34m\u001b[0m\n\u001b[1;32m     23\u001b[0m     \u001b[0;32mreturn\u001b[0m \u001b[0mhor\u001b[0m\u001b[0;34m,\u001b[0m \u001b[0mver\u001b[0m\u001b[0;34m\u001b[0m\u001b[0;34m\u001b[0m\u001b[0m\n\u001b[1;32m     24\u001b[0m \u001b[0mhor\u001b[0m\u001b[0;34m,\u001b[0m\u001b[0mver\u001b[0m\u001b[0;34m=\u001b[0m \u001b[0mmake_maze\u001b[0m\u001b[0;34m(\u001b[0m\u001b[0;36m8\u001b[0m\u001b[0;34m,\u001b[0m\u001b[0;36m8\u001b[0m\u001b[0;34m)\u001b[0m\u001b[0;34m\u001b[0m\u001b[0;34m\u001b[0m\u001b[0m\n\u001b[0;32m---> 25\u001b[0;31m \u001b[0mplot_maze\u001b[0m\u001b[0;34m(\u001b[0m\u001b[0mhor\u001b[0m\u001b[0;34m,\u001b[0m \u001b[0mver\u001b[0m\u001b[0;34m)\u001b[0m\u001b[0;34m\u001b[0m\u001b[0;34m\u001b[0m\u001b[0m\n\u001b[0m\u001b[1;32m     26\u001b[0m \u001b[0mprint\u001b[0m\u001b[0;34m(\u001b[0m\u001b[0mlen\u001b[0m\u001b[0;34m(\u001b[0m\u001b[0mver\u001b[0m\u001b[0;34m)\u001b[0m\u001b[0;34m,\u001b[0m\u001b[0mlen\u001b[0m\u001b[0;34m(\u001b[0m\u001b[0mver\u001b[0m\u001b[0;34m[\u001b[0m\u001b[0;36m0\u001b[0m\u001b[0;34m]\u001b[0m\u001b[0;34m)\u001b[0m\u001b[0;34m)\u001b[0m\u001b[0;34m\u001b[0m\u001b[0;34m\u001b[0m\u001b[0m\n\u001b[1;32m     27\u001b[0m \u001b[0mprint\u001b[0m\u001b[0;34m(\u001b[0m\u001b[0mlen\u001b[0m\u001b[0;34m(\u001b[0m\u001b[0mhor\u001b[0m\u001b[0;34m)\u001b[0m\u001b[0;34m,\u001b[0m \u001b[0mlen\u001b[0m\u001b[0;34m(\u001b[0m\u001b[0mhor\u001b[0m\u001b[0;34m[\u001b[0m\u001b[0;36m0\u001b[0m\u001b[0;34m]\u001b[0m\u001b[0;34m)\u001b[0m\u001b[0;34m)\u001b[0m\u001b[0;34m\u001b[0m\u001b[0;34m\u001b[0m\u001b[0m\n",
      "\u001b[0;32m<ipython-input-252-e59cc41274f7>\u001b[0m in \u001b[0;36mplot_maze\u001b[0;34m(H, V)\u001b[0m\n\u001b[1;32m      6\u001b[0m     \u001b[0;32mfor\u001b[0m \u001b[0mx\u001b[0m \u001b[0;32min\u001b[0m \u001b[0mrange\u001b[0m\u001b[0;34m(\u001b[0m\u001b[0;36m1\u001b[0m\u001b[0;34m,\u001b[0m\u001b[0mlen\u001b[0m\u001b[0;34m(\u001b[0m\u001b[0mV\u001b[0m\u001b[0;34m)\u001b[0m\u001b[0;34m)\u001b[0m\u001b[0;34m:\u001b[0m\u001b[0;34m\u001b[0m\u001b[0;34m\u001b[0m\u001b[0m\n\u001b[1;32m      7\u001b[0m         \u001b[0;32mfor\u001b[0m \u001b[0my\u001b[0m \u001b[0;32min\u001b[0m \u001b[0mrange\u001b[0m\u001b[0;34m(\u001b[0m\u001b[0;36m1\u001b[0m\u001b[0;34m,\u001b[0m\u001b[0mlen\u001b[0m\u001b[0;34m(\u001b[0m\u001b[0mV\u001b[0m\u001b[0;34m[\u001b[0m\u001b[0;36m0\u001b[0m\u001b[0;34m]\u001b[0m\u001b[0;34m)\u001b[0m\u001b[0;34m)\u001b[0m\u001b[0;34m:\u001b[0m\u001b[0;34m\u001b[0m\u001b[0;34m\u001b[0m\u001b[0m\n\u001b[0;32m----> 8\u001b[0;31m             \u001b[0;32mif\u001b[0m\u001b[0;34m(\u001b[0m\u001b[0mV\u001b[0m\u001b[0;34m[\u001b[0m\u001b[0mx\u001b[0m\u001b[0;34m]\u001b[0m\u001b[0;34m[\u001b[0m\u001b[0my\u001b[0m\u001b[0;34m]\u001b[0m\u001b[0;34m)\u001b[0m\u001b[0;34m:\u001b[0m\u001b[0;34m\u001b[0m\u001b[0;34m\u001b[0m\u001b[0m\n\u001b[0m\u001b[1;32m      9\u001b[0m                 \u001b[0mplt\u001b[0m\u001b[0;34m.\u001b[0m\u001b[0mplot\u001b[0m\u001b[0;34m(\u001b[0m\u001b[0;34m[\u001b[0m\u001b[0mx\u001b[0m\u001b[0;34m,\u001b[0m\u001b[0mx\u001b[0m\u001b[0;34m]\u001b[0m\u001b[0;34m,\u001b[0m \u001b[0;34m[\u001b[0m\u001b[0my\u001b[0m\u001b[0;34m-\u001b[0m\u001b[0;36m1\u001b[0m\u001b[0;34m,\u001b[0m\u001b[0my\u001b[0m\u001b[0;34m]\u001b[0m\u001b[0;34m,\u001b[0m \u001b[0mcolor\u001b[0m\u001b[0;34m=\u001b[0m\u001b[0;34m'k'\u001b[0m\u001b[0;34m)\u001b[0m\u001b[0;34m\u001b[0m\u001b[0;34m\u001b[0m\u001b[0m\n\u001b[1;32m     10\u001b[0m     \u001b[0;32mfor\u001b[0m \u001b[0mx\u001b[0m \u001b[0;32min\u001b[0m \u001b[0mrange\u001b[0m\u001b[0;34m(\u001b[0m\u001b[0;36m1\u001b[0m\u001b[0;34m,\u001b[0m\u001b[0mlen\u001b[0m\u001b[0;34m(\u001b[0m\u001b[0mH\u001b[0m\u001b[0;34m)\u001b[0m\u001b[0;34m)\u001b[0m\u001b[0;34m:\u001b[0m\u001b[0;34m\u001b[0m\u001b[0;34m\u001b[0m\u001b[0m\n",
      "\u001b[0;31mIndexError\u001b[0m: list index out of range"
     ]
    },
    {
     "data": {
      "image/png": "[encoded data removed]",
      "text/plain": [
       "<Figure size 432x288 with 1 Axes>"
      ]
     },
     "metadata": {
      "needs_background": "light"
     },
     "output_type": "display_data"
    }
   ],
   "source": [
    "def make_maze(w = 16, h = 8):\n",
    "    vis = [[0] * w + [1] for _ in range(h)] + [[1] * (w + 1)]\n",
    "    ver = [[1] * w + [1] for _ in range(h)] + [[]]\n",
    "    hor = [[1] * w + [1] for _ in range(h + 1)]\n",
    " \n",
    "    def walk(x, y):\n",
    "        vis[y][x] = 1\n",
    " \n",
    "        d = [(x - 1, y), (x, y + 1), (x + 1, y), (x, y - 1)]\n",
    "        shuffle(d)\n",
    "        for (xx, yy) in d:\n",
    "            if vis[yy][xx]: continue\n",
    "            if xx == x: hor[max(y, yy)][x] = \"+  \"\n",
    "            if yy == y: ver[y][max(x, xx)] = \"   \"\n",
    "            walk(xx, yy)\n",
    " \n",
    "    walk(1,1)\n",
    " \n",
    "#     s = \"\"\n",
    "#     for (a, b) in zip(hor, ver):\n",
    "#         s += ''.join(a + ['\\n'] + b + ['\\n'])\n",
    "#     print(s)\n",
    "    return hor, ver\n",
    "hor,ver= make_maze(8,8)\n",
    "plot_maze(hor, ver)\n",
    "print(len(ver),len(ver[0]))\n",
    "print(len(hor), len(hor[0]))"
   ]
  },
  {
   "cell_type": "code",
   "execution_count": 25,
   "id": "southwest-person",
   "metadata": {},
   "outputs": [],
   "source": [
    "n=5\n",
    "def valid(x,y):\n",
    "    return ((x>=0 and x<n) and (y>=0 and y<n))\n",
    "def valid_states(d):\n",
    "    out = []\n",
    "    for i in d:\n",
    "        if(valid(i[0],i[1])):\n",
    "            out.append(tuple(i))\n",
    "visit = []\n",
    "pathX, pathY = [], []\n",
    "def recur(x,y, pathX=[], pathY=[], visit=[]):\n",
    "    if x==n and y==1:\n",
    "        pathX.append(x)\n",
    "        pathY.append(y)\n",
    "        return pathX, pathY\n",
    "    if valid(x,y) and H[x][y]!=0 and V[x][y]!=0:\n",
    "        if [x,y] not in visit:\n",
    "            pathX.append(x)\n",
    "            pathY.append(y)\n",
    "            visit.append([x,y])\n",
    "            d = [(x-1,y),(x+1,y),(x,y-1),(x,y+1)]\n",
    "            d = valid_states(d)\n",
    "            for i in d:\n",
    "                recur(i[0], i[1], pathX[:],pathY[:], visit[:])\n",
    "    else:\n",
    "        return"
   ]
  },
  {
   "cell_type": "code",
   "execution_count": 28,
   "id": "steady-sally",
   "metadata": {},
   "outputs": [
    {
     "data": {
      "text/plain": [
       "[[0, 1, 0, 0, 0],\n",
       " [1, 0, 1, 0, 0],\n",
       " [0, 1, 1, 0, 0],\n",
       " [1, 1, 1, 0, 1],\n",
       " [0, 1, 0, 1, 1],\n",
       " [1, 0, 0, 0, 0]]"
      ]
     },
     "execution_count": 28,
     "metadata": {},
     "output_type": "execute_result"
    }
   ],
   "source": [
    "H"
   ]
  },
  {
   "cell_type": "code",
   "execution_count": 168,
   "id": "honey-prime",
   "metadata": {},
   "outputs": [
    {
     "data": {
      "text/plain": [
       "[<matplotlib.lines.Line2D at 0x11d322400>]"
      ]
     },
     "execution_count": 168,
     "metadata": {},
     "output_type": "execute_result"
    },
    {
     "data": {
      "image/png": "[encoded data removed]",
      "text/plain": [
       "<Figure size 432x288 with 1 Axes>"
      ]
     },
     "metadata": {
      "needs_background": "light"
     },
     "output_type": "display_data"
    }
   ],
   "source": [
    "plt.axis('off')\n",
    "plt.plot([0,0],[0,9])"
   ]
  },
  {
   "cell_type": "code",
   "execution_count": null,
   "id": "suspected-fluid",
   "metadata": {},
   "outputs": [],
   "source": []
  }
 ],
 "metadata": {
  "kernelspec": {
   "display_name": "Python 3",
   "language": "python",
   "name": "python3"
  },
  "language_info": {
   "codemirror_mode": {
    "name": "ipython",
    "version": 3
   },
   "file_extension": ".py",
   "mimetype": "text/x-python",
   "name": "python",
   "nbconvert_exporter": "python",
   "pygments_lexer": "ipython3",
   "version": "3.9.2"
  }
 },
 "nbformat": 4,
 "nbformat_minor": 5
}
