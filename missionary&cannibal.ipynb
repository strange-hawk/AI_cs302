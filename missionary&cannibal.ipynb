{
 "cells": [
  {
   "cell_type": "code",
   "execution_count": 4,
   "metadata": {},
   "outputs": [],
   "source": [
    "a,b = 4,4"
   ]
  },
  {
   "cell_type": "code",
   "execution_count": 1,
   "metadata": {},
   "outputs": [],
   "source": [
    "def is_valid(state):\n",
    "    if(state[0]<0 or state[1]<0 or state[2]>1 or state[0]>a or state[1]>b or (0<state[0]<state[1]) or (0<(3-state[0])<(3-state[1]))):\n",
    "        return False\n",
    "    return True"
   ]
  },
  {
   "cell_type": "code",
   "execution_count": 2,
   "metadata": {},
   "outputs": [],
   "source": [
    "def frontier(curr_state):\n",
    "    possible_moves = [[0,1,1],[0,2,1],[1,1,1],[1,0,1],[2,0,1]]\n",
    "    new_states = []\n",
    "    for move in possible_moves:\n",
    "        temp=[]\n",
    "        if curr_state[2]==1:\n",
    "            for i in range(len(curr_state)):\n",
    "                temp.append(curr_state[i]-move[i])\n",
    "#             temp = [x1-x2 for x1,x2 in zip(curr_state, move)]\n",
    "        else:\n",
    "            for i in range(len(curr_state)):\n",
    "                    temp.append(curr_state[i]+move[i])\n",
    "#             temp = [x1+x2 for x1,x2 in zip(curr_state, move)]\n",
    "#         print(temp)\n",
    "        if(is_valid(temp)):\n",
    "            new_states.append(temp)\n",
    "    return new_states"
   ]
  },
  {
   "cell_type": "code",
   "execution_count": 6,
   "metadata": {},
   "outputs": [
    {
     "data": {
      "text/plain": [
       "[[3, 2, 0], [3, 1, 0], [2, 2, 0]]"
      ]
     },
     "execution_count": 6,
     "metadata": {},
     "output_type": "execute_result"
    }
   ],
   "source": [
    "frontier([3,3,1])"
   ]
  },
  {
   "cell_type": "code",
   "execution_count": 7,
   "metadata": {},
   "outputs": [],
   "source": [
    "solution_path=[]"
   ]
  },
  {
   "cell_type": "code",
   "execution_count": 8,
   "metadata": {},
   "outputs": [],
   "source": [
    "def solution(curr_state, visited):\n",
    "#     print('curr_state',curr_state)\n",
    "    if(curr_state==[0,0,0]):\n",
    "        solution_path.append(visited+[curr_state])\n",
    "        return True\n",
    "    elif curr_state in visited:\n",
    "        return False\n",
    "    else:\n",
    "#         print('curr_state',curr_state)\n",
    "        visited.append(curr_state)\n",
    "        next_possible_states = frontier(curr_state)\n",
    "        for i in next_possible_states:\n",
    "            solution(i, visited[:])\n",
    "        "
   ]
  },
  {
   "cell_type": "code",
   "execution_count": 9,
   "metadata": {},
   "outputs": [],
   "source": [
    "solution([a,b,1],[])"
   ]
  },
  {
   "cell_type": "code",
   "execution_count": 11,
   "metadata": {},
   "outputs": [
    {
     "data": {
      "text/plain": [
       "[[4, 4, 1],\n",
       " [3, 3, 0],\n",
       " [4, 3, 1],\n",
       " [3, 2, 0],\n",
       " [3, 3, 1],\n",
       " [2, 2, 0],\n",
       " [3, 2, 1],\n",
       " [3, 0, 0],\n",
       " [3, 1, 1],\n",
       " [1, 1, 0],\n",
       " [2, 2, 1],\n",
       " [0, 2, 0],\n",
       " [0, 3, 1],\n",
       " [0, 1, 0],\n",
       " [0, 2, 1],\n",
       " [0, 0, 0]]"
      ]
     },
     "execution_count": 11,
     "metadata": {},
     "output_type": "execute_result"
    }
   ],
   "source": [
    "sorted(solution_path)[0]"
   ]
  },
  {
   "cell_type": "code",
   "execution_count": null,
   "metadata": {},
   "outputs": [],
   "source": []
  },
  {
   "cell_type": "code",
   "execution_count": null,
   "metadata": {},
   "outputs": [],
   "source": []
  },
  {
   "cell_type": "code",
   "execution_count": null,
   "metadata": {},
   "outputs": [],
   "source": []
  },
  {
   "cell_type": "code",
   "execution_count": null,
   "metadata": {},
   "outputs": [],
   "source": []
  },
  {
   "cell_type": "code",
   "execution_count": null,
   "metadata": {},
   "outputs": [],
   "source": []
  },
  {
   "cell_type": "code",
   "execution_count": null,
   "metadata": {},
   "outputs": [],
   "source": []
  },
  {
   "cell_type": "code",
   "execution_count": null,
   "metadata": {},
   "outputs": [],
   "source": []
  },
  {
   "cell_type": "code",
   "execution_count": null,
   "metadata": {},
   "outputs": [],
   "source": []
  },
  {
   "cell_type": "code",
   "execution_count": null,
   "metadata": {},
   "outputs": [],
   "source": []
  },
  {
   "cell_type": "code",
   "execution_count": null,
   "metadata": {},
   "outputs": [],
   "source": [
    "d"
   ]
  }
 ],
 "metadata": {
  "kernelspec": {
   "display_name": "Python 3",
   "language": "python",
   "name": "python3"
  },
  "language_info": {
   "codemirror_mode": {
    "name": "ipython",
    "version": 3
   },
   "file_extension": ".py",
   "mimetype": "text/x-python",
   "name": "python",
   "nbconvert_exporter": "python",
   "pygments_lexer": "ipython3",
   "version": "3.9.2"
  }
 },
 "nbformat": 4,
 "nbformat_minor": 4
}
