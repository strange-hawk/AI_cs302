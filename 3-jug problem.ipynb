{
 "cells": [
  {
   "cell_type": "code",
   "execution_count": 46,
   "metadata": {},
   "outputs": [],
   "source": [
    "x,y,z = [8,5,3]"
   ]
  },
  {
   "cell_type": "code",
   "execution_count": 5,
   "metadata": {},
   "outputs": [],
   "source": [
    "def is_valid(state):\n",
    "    if(state[0]<0 or state[1]<0 or state[2]<0 or state[0]>8 or state[1]>5 or state[2]>3 or (sum(state)!=8)):\n",
    "#        state[2]>1 or state[0]>a or state[1]>b or (0<state[0]<state[1]) or (0<(3-state[0])<(3-state[1]))):\n",
    "        return False\n",
    "    return True"
   ]
  },
  {
   "cell_type": "code",
   "execution_count": 47,
   "metadata": {},
   "outputs": [],
   "source": [
    "def frontier(curr_state):\n",
    "    a,b,c = curr_state[0],curr_state[1],curr_state[2]\n",
    "    possible_moves = []\n",
    "    if(a>0):\n",
    "        if(a+b <= y):\n",
    "            print(\"hello\")\n",
    "            possible_moves.append([0,a+b,c])\n",
    "        else:\n",
    "            possible_moves.append([ a+b-y,y,c])\n",
    "        \n",
    "        if(a+c<=z):\n",
    "            possible_moves.append([0,b,a+c])\n",
    "        else:\n",
    "            possible_moves.append([a+c-z,b,z])\n",
    "    if(b>0):\n",
    "        if(b+a<=x):\n",
    "            possible_moves.append([a+b,0,c])\n",
    "        else:\n",
    "            possible_moves.append([x,a+b-x,c])\n",
    "            \n",
    "        if(b+c<=z):\n",
    "            possible_moves.append([a,0,b+c])\n",
    "        else:\n",
    "            possible_moves.append([a,b+c-z,z])\n",
    "    if(c>0):\n",
    "        if c+a<=x:\n",
    "            possible_moves.append([a+c,b,0])\n",
    "        else:\n",
    "            possible_moves.append([x,b,a+c-x])\n",
    "        if c+b<=y:\n",
    "            possible_moves.append([a,b+c,0])\n",
    "        else:\n",
    "            possible_moves.append([a,y,b+c-y])\n",
    "    return possible_moves"
   ]
  },
  {
   "cell_type": "code",
   "execution_count": 49,
   "metadata": {},
   "outputs": [
    {
     "data": {
      "text/plain": [
       "[[3, 5, 0], [5, 0, 3]]"
      ]
     },
     "execution_count": 49,
     "metadata": {},
     "output_type": "execute_result"
    }
   ],
   "source": [
    "frontier([8,0,0])"
   ]
  },
  {
   "cell_type": "code",
   "execution_count": 31,
   "metadata": {},
   "outputs": [],
   "source": [
    "solution_path=[]"
   ]
  },
  {
   "cell_type": "code",
   "execution_count": 50,
   "metadata": {},
   "outputs": [],
   "source": [
    "def solution(curr_state, visited):\n",
    "#     print('curr_state',curr_state)\n",
    "    if(curr_state==[4,4,0]):\n",
    "        solution_path.append(visited+[curr_state])\n",
    "        return True\n",
    "    elif curr_state in visited:\n",
    "        return False\n",
    "    else:\n",
    "        visited.append(curr_state)\n",
    "        next_possible_states = frontier(curr_state)\n",
    "#         print(next_possible_states)\n",
    "        for i in next_possible_states:\n",
    "#             if i not in visited:\n",
    "            solution(i, visited[:])\n",
    "        "
   ]
  },
  {
   "cell_type": "code",
   "execution_count": 51,
   "metadata": {
    "collapsed": true
   },
   "outputs": [
    {
     "name": "stdout",
     "output_type": "stream",
     "text": [
      "hello\n",
      "hello\n",
      "hello\n",
      "hello\n",
      "hello\n",
      "hello\n",
      "hello\n",
      "hello\n",
      "hello\n",
      "hello\n",
      "hello\n",
      "hello\n",
      "hello\n",
      "hello\n",
      "hello\n",
      "hello\n",
      "hello\n",
      "hello\n",
      "hello\n",
      "hello\n",
      "hello\n",
      "hello\n",
      "hello\n",
      "hello\n",
      "hello\n",
      "hello\n",
      "hello\n",
      "hello\n",
      "hello\n",
      "hello\n",
      "hello\n",
      "hello\n",
      "hello\n",
      "hello\n",
      "hello\n",
      "hello\n",
      "hello\n",
      "hello\n",
      "hello\n",
      "hello\n"
     ]
    }
   ],
   "source": [
    "solution([8,0,0],[])"
   ]
  },
  {
   "cell_type": "code",
   "execution_count": 53,
   "metadata": {},
   "outputs": [
    {
     "data": {
      "text/plain": [
       "[[8, 0, 0],\n",
       " [3, 5, 0],\n",
       " [0, 5, 3],\n",
       " [5, 0, 3],\n",
       " [5, 3, 0],\n",
       " [2, 3, 3],\n",
       " [2, 5, 1],\n",
       " [7, 0, 1],\n",
       " [7, 1, 0],\n",
       " [4, 1, 3],\n",
       " [4, 4, 0]]"
      ]
     },
     "execution_count": 53,
     "metadata": {},
     "output_type": "execute_result"
    }
   ],
   "source": [
    "solution_path[0]"
   ]
  },
  {
   "cell_type": "code",
   "execution_count": null,
   "metadata": {},
   "outputs": [],
   "source": []
  },
  {
   "cell_type": "code",
   "execution_count": null,
   "metadata": {},
   "outputs": [],
   "source": []
  },
  {
   "cell_type": "code",
   "execution_count": null,
   "metadata": {},
   "outputs": [],
   "source": []
  },
  {
   "cell_type": "code",
   "execution_count": null,
   "metadata": {},
   "outputs": [],
   "source": []
  },
  {
   "cell_type": "code",
   "execution_count": null,
   "metadata": {},
   "outputs": [],
   "source": []
  },
  {
   "cell_type": "code",
   "execution_count": null,
   "metadata": {},
   "outputs": [],
   "source": []
  },
  {
   "cell_type": "code",
   "execution_count": null,
   "metadata": {},
   "outputs": [],
   "source": []
  },
  {
   "cell_type": "code",
   "execution_count": null,
   "metadata": {},
   "outputs": [],
   "source": []
  },
  {
   "cell_type": "code",
   "execution_count": null,
   "metadata": {},
   "outputs": [],
   "source": []
  },
  {
   "cell_type": "code",
   "execution_count": null,
   "metadata": {},
   "outputs": [],
   "source": [
    "d"
   ]
  }
 ],
 "metadata": {
  "kernelspec": {
   "display_name": "Python 3",
   "language": "python",
   "name": "python3"
  },
  "language_info": {
   "codemirror_mode": {
    "name": "ipython",
    "version": 3
   },
   "file_extension": ".py",
   "mimetype": "text/x-python",
   "name": "python",
   "nbconvert_exporter": "python",
   "pygments_lexer": "ipython3",
   "version": "3.8.7"
  }
 },
 "nbformat": 4,
 "nbformat_minor": 4
}
